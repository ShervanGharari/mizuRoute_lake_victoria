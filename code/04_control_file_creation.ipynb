{
 "cells": [
  {
   "cell_type": "code",
   "execution_count": 1,
   "id": "1b562914",
   "metadata": {},
   "outputs": [
    {
     "name": "stderr",
     "output_type": "stream",
     "text": [
      "/Users/shg096/opt/anaconda3/envs/myenv38/lib/python3.8/site-packages/geopandas/_compat.py:106: UserWarning: The Shapely GEOS version (3.8.0-CAPI-1.13.1 ) is incompatible with the GEOS version PyGEOS was compiled with (3.9.1-CAPI-1.14.2). Conversions between both will be slow.\n",
      "  warnings.warn(\n"
     ]
    }
   ],
   "source": [
    "# section 1 load all the necessary modules and packages\n",
    "import glob\n",
    "import time\n",
    "import netCDF4 as nc4\n",
    "import numpy as np\n",
    "import pandas as pd\n",
    "import xarray as xr\n",
    "# not neccessary for the function but for visualziation\n",
    "import matplotlib.pyplot as plt\n",
    "import warnings\n",
    "import sys\n",
    "import os\n",
    "import platform\n",
    "import shutil\n"
   ]
  },
  {
   "cell_type": "code",
   "execution_count": null,
   "id": "d39de930",
   "metadata": {},
   "outputs": [],
   "source": [
    "###########################\n",
    "# replacing string function\n",
    "###########################\n",
    "def replace_string (file_in, file_out, string_old, string_replaced):\n",
    "    with open(file_in, \"r+\") as text_file:\n",
    "        texts = text_file.read()\n",
    "        for i in np.arange(len(string_old)):\n",
    "            texts = texts.replace(string_old[i], string_replaced[i])\n",
    "    with open(file_out, \"w\") as text_file:\n",
    "        text_file.write(texts)\n"
   ]
  },
  {
   "cell_type": "code",
   "execution_count": null,
   "id": "f8b66e61",
   "metadata": {},
   "outputs": [],
   "source": [
    "###########################\n",
    "# get the evaporation for lake victoria \n",
    "###########################\n",
    "file_names = sorted(glob.glob('../mizuRoute/input/VIC_Lake_Victoria_remapped_*.nc'))\n",
    "\n",
    "# merge file\n",
    "merged_dataset = xr.open_mfdataset(file_names)\n",
    "\n",
    "# number of years\n",
    "time_variable = merged_dataset['time']\n",
    "years = time_variable.dt.year\n",
    "years = np.array(years)\n",
    "n_years = np.unique(years)\n",
    "print(n_years)\n",
    "\n",
    "# find the location index of Lake Victoria\n",
    "idx = np.array(np.where(ds['ID']==7000016))\n",
    "idx = idx[0]\n",
    "    \n",
    "# slice\n",
    "evaporation = np.array(merger_dataset['evaporation'][:,idx])\n",
    "average_evap = sum(evaporation)/n_years\n",
    "\n",
    "# get the ratio for scale\n",
    "other_evap = np.array([1550, 1350, 1130, 1520, 1450, 1500, 1370, 1590, 1470, 1475, 1590, 1595, 1400])\n",
    "\n",
    "# creat the scale factors\n",
    "scales = other_evap/average_evap\n"
   ]
  },
  {
   "cell_type": "code",
   "execution_count": null,
   "id": "9c6f00ef",
   "metadata": {},
   "outputs": [],
   "source": [
    "# Case in which data is located\n",
    "shutil.copy('../mizuRoute/lake_victoria_temp.submit',\n",
    "            '../mizuRoute/lake_victoria.submit')\n",
    "\n",
    "for scale in scales:\n",
    "    \n",
    "    #\n",
    "    replace_string('../mizuRoute/setting/lake_victoria_temp.control',\n",
    "                   '../mizuRoute/setting/lake_victoria'+f\"{float_number:.4f}\"+'.control',\n",
    "                   ['case_temp', 'scale_factor_temp'],\n",
    "                   ['case'+f\"{float_number:.4f}\", f\"{float_number:.4f}\"])\n",
    "    \n",
    "    #\n",
    "    with open('../mizuRoute/lake_victoria.submit', \"w\") as file:\n",
    "        line_to_write = 'srun route_runoff.cesm_coupling.exe ../mizuRoute/setting/lake_victoria'+f\"{float_number:.4f}\"+'.control'+' \\n'\n",
    "        file.write(line_to_write)\n",
    "\n"
   ]
  },
  {
   "cell_type": "code",
   "execution_count": null,
   "id": "2c8d739d",
   "metadata": {},
   "outputs": [],
   "source": []
  },
  {
   "cell_type": "code",
   "execution_count": null,
   "id": "1a01765f",
   "metadata": {},
   "outputs": [],
   "source": []
  }
 ],
 "metadata": {
  "kernelspec": {
   "display_name": "myenv38",
   "language": "python",
   "name": "myenv38"
  },
  "language_info": {
   "codemirror_mode": {
    "name": "ipython",
    "version": 3
   },
   "file_extension": ".py",
   "mimetype": "text/x-python",
   "name": "python",
   "nbconvert_exporter": "python",
   "pygments_lexer": "ipython3",
   "version": "3.8.10"
  }
 },
 "nbformat": 4,
 "nbformat_minor": 5
}
