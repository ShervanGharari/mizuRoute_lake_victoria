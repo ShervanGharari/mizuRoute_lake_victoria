{
 "cells": [
  {
   "cell_type": "code",
   "execution_count": null,
   "id": "87d4ff89",
   "metadata": {},
   "outputs": [],
   "source": [
    "# section 1 load all the necessary modules and packages\n",
    "import glob\n",
    "import time\n",
    "import netCDF4 as nc4 \n",
    "import numpy as np\n",
    "import pandas as pd\n",
    "import xarray as xr\n",
    "# not neccessary for the function but for visualziation\n",
    "import matplotlib.pyplot as plt\n",
    "import warnings\n",
    "import sys\n",
    "import os\n",
    "import platform\n",
    "import shutil\n"
   ]
  },
  {
   "cell_type": "code",
   "execution_count": null,
   "id": "12ce682c",
   "metadata": {},
   "outputs": [],
   "source": [
    "# plot of best simulation\n",
    "ds = xr.open_dataset('/Users/shg096/Downloads/mizuRoute_output_all/sim_00973.nc')\n",
    "ds['ele_sim'] = ds['IRFvolume'].copy()\n",
    "ds['ele_sim'][:] = ds['ele_sim'][:]/(68800*10**6)\n",
    "ds['ele_sim'][:] = ds['ele_sim'][:] + 1122.86\n",
    "ds['ele_sim'][:,1].plot(color='r')\n",
    "    \n",
    "    \n",
    "# \n",
    "lake_elevation['water_level'].plot(color='b')\n",
    "\n",
    "ds = xr.open_dataset('/Users/shg096/Downloads/mizuRoute_output_all/sim_hist.nc')\n",
    "ds['ele_sim'] = ds['IRFvolume'].copy()\n",
    "ds['ele_sim'][:] = ds['ele_sim'][:]/(68800*10**6)\n",
    "ds['ele_sim'][:] = ds['ele_sim'][:] + 1122.86\n",
    "ds['ele_sim'][:,1].plot(color='r')\n",
    "\n",
    "# read the Dahitti data set\n",
    "lake_elevation = pd.read_csv('../data/DAHITI_Data/Lake_Victoria.csv')\n",
    "print(lake_elevation)\n",
    "lake_elevation['date']  = pd.DatetimeIndex(lake_elevation['date'])\n",
    "lake_elevation = lake_elevation.set_index('date')\n",
    "print(lake_elevation)\n",
    "lake_elevation['water_level'].plot()"
   ]
  },
  {
   "cell_type": "code",
   "execution_count": null,
   "id": "57b4d5fb",
   "metadata": {},
   "outputs": [],
   "source": [
    "import xarray as xr\n",
    "import pandas as pd\n",
    "import matplotlib.pyplot as plt\n",
    "\n",
    "# Load and preprocess the simulation data\n",
    "ds_best = xr.open_dataset('/Users/shg096/Downloads/mizuRoute_output_all/sim_00973.nc')\n",
    "ds_best['ele_sim'] = ds_best['IRFvolume'] / (68800 * 10**6) + 1122.86\n",
    "\n",
    "ds_hist = xr.open_dataset('/Users/shg096/Downloads/mizuRoute_output_all/sim_hist.nc')\n",
    "ds_hist['ele_sim'] = ds_hist['IRFvolume'] / (68800 * 10**6) + 1122.86\n",
    "\n",
    "# Load and preprocess the lake elevation data\n",
    "lake_elevation = pd.read_csv('../data/DAHITI_Data/Lake_Victoria.csv')\n",
    "lake_elevation['date'] = pd.DatetimeIndex(lake_elevation['date'])\n",
    "lake_elevation = lake_elevation.set_index('date')\n",
    "\n",
    "# Create a figure and axes\n",
    "fig, ax = plt.subplots(figsize=(30, 10))\n",
    "\n",
    "# Plot simulation data and lake elevation data\n",
    "ds_best['ele_sim'][:, 1].plot(ax=ax, color='r', label='Best Simulation')\n",
    "lake_elevation['water_level'].plot(ax=ax, color='b', label='Lake Elevation')\n",
    "ds_hist['ele_sim'][:, 1].plot(ax=ax, color='g', label='Historical Simulation')\n",
    "\n",
    "# Set labels and title\n",
    "ax.set_xlabel('Date')\n",
    "ax.set_ylabel('Elevation')\n",
    "ax.set_title('Lake Elevation Comparison')\n",
    "\n",
    "# Add legend\n",
    "ax.legend()\n",
    "\n",
    "# Show the plot\n",
    "plt.show()"
   ]
  }
 ],
 "metadata": {
  "kernelspec": {
   "display_name": "myenv38",
   "language": "python",
   "name": "myenv38"
  },
  "language_info": {
   "codemirror_mode": {
    "name": "ipython",
    "version": 3
   },
   "file_extension": ".py",
   "mimetype": "text/x-python",
   "name": "python",
   "nbconvert_exporter": "python",
   "pygments_lexer": "ipython3",
   "version": "3.8.10"
  }
 },
 "nbformat": 4,
 "nbformat_minor": 5
}
