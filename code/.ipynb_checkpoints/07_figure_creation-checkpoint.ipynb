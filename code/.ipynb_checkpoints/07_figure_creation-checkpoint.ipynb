{
 "cells": [
  {
   "cell_type": "code",
   "execution_count": null,
   "id": "cbc89fe8",
   "metadata": {},
   "outputs": [],
   "source": [
    "# section 1 load all the necessary modules and packages\n",
    "import glob\n",
    "import time\n",
    "import netCDF4 as nc4 \n",
    "import numpy as np\n",
    "import pandas as pd\n",
    "import xarray as xr\n",
    "# not neccessary for the function but for visualziation\n",
    "import matplotlib.pyplot as plt\n",
    "import warnings\n",
    "import sys\n",
    "import os\n",
    "import platform\n",
    "import shutil\n"
   ]
  },
  {
   "cell_type": "code",
   "execution_count": null,
   "id": "09a4d91a",
   "metadata": {},
   "outputs": [],
   "source": [
    "# plot of best simulation\n",
    "ds = xr.open_dataset('/Users/shg096/Downloads/mizuRoute_output_all/sim_00973.nc')\n",
    "ds['ele_sim'] = ds['IRFvolume'].copy()\n",
    "ds['ele_sim'][:] = ds['ele_sim'][:]/(68800*10**6)\n",
    "ds['ele_sim'][:] = ds['ele_sim'][:] + 1122.86\n",
    "\n",
    "\n",
    "ds['ele_sim'][:,1].plot(color='r')\n",
    "    \n",
    "    \n",
    "# \n",
    "lake_elevation['water_level'].plot(color='b')\n",
    "\n",
    "ds = xr.open_dataset('/Users/shg096/Downloads/mizuRoute_output_all/sim_hist.nc')\n",
    "ds['ele_sim'] = ds['IRFvolume'].copy()\n",
    "ds['ele_sim'][:] = ds['ele_sim'][:]/(68800*10**6)\n",
    "ds['ele_sim'][:] = ds['ele_sim'][:] + 1122.86\n",
    "ds['ele_sim'][:,1].plot(color='r')\n",
    "\n",
    "# read the Dahitti data set\n",
    "lake_elevation = pd.read_csv('../data/DAHITI_Data/Lake_Victoria.csv')\n",
    "print(lake_elevation)\n",
    "lake_elevation['date']  = pd.DatetimeIndex(lake_elevation['date'])\n",
    "lake_elevation = lake_elevation.set_index('date')\n",
    "print(lake_elevation)\n",
    "lake_elevation['water_level'].plot()"
   ]
  },
  {
   "cell_type": "code",
   "execution_count": null,
   "id": "60196828",
   "metadata": {},
   "outputs": [],
   "source": []
  }
 ],
 "metadata": {
  "kernelspec": {
   "display_name": "myenv38",
   "language": "python",
   "name": "myenv38"
  },
  "language_info": {
   "codemirror_mode": {
    "name": "ipython",
    "version": 3
   },
   "file_extension": ".py",
   "mimetype": "text/x-python",
   "name": "python",
   "nbconvert_exporter": "python",
   "pygments_lexer": "ipython3",
   "version": "3.8.10"
  }
 },
 "nbformat": 4,
 "nbformat_minor": 5
}
