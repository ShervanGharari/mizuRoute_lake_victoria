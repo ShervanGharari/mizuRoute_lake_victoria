{
 "cells": [
  {
   "cell_type": "code",
   "execution_count": 1,
   "id": "a6c0406a",
   "metadata": {},
   "outputs": [],
   "source": [
    "# section 1 load all the necessary modules and packages\n",
    "import glob\n",
    "import time\n",
    "import netCDF4 as nc4\n",
    "import numpy as np\n",
    "import pandas as pd\n",
    "import xarray as xr\n",
    "# not neccessary for the function but for visualziation\n",
    "import matplotlib.pyplot as plt\n",
    "import warnings\n",
    "import sys\n",
    "import os\n",
    "import platform\n",
    "import shutil\n"
   ]
  },
  {
   "cell_type": "code",
   "execution_count": 2,
   "id": "76a4d39b",
   "metadata": {},
   "outputs": [],
   "source": [
    "###########################\n",
    "# replacing string function\n",
    "###########################\n",
    "def replace_string (file_in, file_out, string_old, string_replaced):\n",
    "    with open(file_in, \"r+\") as text_file:\n",
    "        texts = text_file.read()\n",
    "        for i in np.arange(len(string_old)):\n",
    "            texts = texts.replace(string_old[i], string_replaced[i])\n",
    "    with open(file_out, \"w\") as text_file:\n",
    "        text_file.write(texts)\n"
   ]
  },
  {
   "cell_type": "code",
   "execution_count": 21,
   "id": "fda18a6f",
   "metadata": {},
   "outputs": [
    {
     "name": "stdout",
     "output_type": "stream",
     "text": [
      "[1979 1980 1981 1982 1983 1984 1985 1986 1987 1988 1989 1990 1991 1992\n",
      " 1993 1994 1995 1996 1997 1998 1999 2000 2001 2002 2003 2004 2005 2006\n",
      " 2007 2008 2009 2010 2011 2012 2013]\n",
      "<xarray.Dataset>\n",
      "Dimensions:  (time: 12784)\n",
      "Coordinates:\n",
      "  * time     (time) datetime64[ns] 1979-01-01 1979-01-02 ... 2013-12-31\n",
      "    lon      float64 33.12\n",
      "    lat      float64 -0.875\n",
      "Data variables:\n",
      "    prec     (time) float32 0.582 1.751 3.802 1.043 ... 0.913 4.721 12.09 17.83\n",
      "    evapw    (time) float32 4.686 4.749 5.318 5.848 ... 6.279 5.527 5.106 5.905\n",
      "    runoff   (time) float32 3.843 3.76 3.749 3.016 ... 0.9205 0.1361 6.502\n",
      "Attributes:\n",
      "    CDI:                        Climate Data Interface version 2.0.5 (https:/...\n",
      "    Conventions:                CF-1.6\n",
      "    history:                    Fri Jul 28 23:54:02 2023: cdo sellonlatbox,28...\n",
      "    NCO:                        netCDF Operators version 4.7.9 (Homepage = ht...\n",
      "    history_of_appended_files:  Mon Jun  8 23:26:42 2020: Appended file runof...\n",
      "    CDO:                        Climate Data Operators version 2.0.5 (https:/...\n",
      "2075.68281097923\n"
     ]
    },
    {
     "data": {
      "image/png": "[encoded data removed]",
      "text/plain": [
       "<Figure size 432x288 with 1 Axes>"
      ]
     },
     "metadata": {
      "needs_background": "light"
     },
     "output_type": "display_data"
    }
   ],
   "source": [
    "###########################\n",
    "# get the evaporation for lake victoria \n",
    "###########################\n",
    "file_names = sorted(glob.glob('../mizuRoute/input/mizuRoute_mswep_v1_*_subset.nc'))\n",
    "\n",
    "datasets = [xr.open_dataset(file_name) for file_name in file_names]\n",
    "\n",
    "merged_dataset = xr.concat(datasets, dim='time')\n",
    "\n",
    "# number of years\n",
    "time_variable = merged_dataset['time']\n",
    "years = time_variable.dt.year\n",
    "years = np.array(years)\n",
    "n_years = np.unique(years)\n",
    "print(n_years)\n",
    "\n",
    "\n",
    "merged_dataset_slice = merged_dataset.sel(lat=-1.00, lon=33.00, method='nearest')\n",
    "\n",
    "print(merged_dataset_slice)\n",
    "merged_dataset_slice['evapw'].plot()\n",
    "\n",
    "\n",
    "average_evap = sum(np.array(merged_dataset_slice['evapw'][:]))/len(n_years)\n",
    "\n",
    "print(average_evap)\n",
    "\n",
    "# get the ratio for scale\n",
    "other_evap = np.array([average_evap, 1550, 1350, 1130, 1520, 1450, 1500, 1370, 1590, 1470, 1475, 1590, 1595, 1400])\n",
    "\n",
    "# creat the scale factors\n",
    "scales = other_evap/average_evap\n",
    "\n",
    "# the control to create the restart file\n",
    "m = 0\n",
    "job_string = ''\n",
    "for scale in scales:\n",
    "    \n",
    "    case_name = str(m)\n",
    "    scale_value = str(\"{:.3f}\".format(scale))\n",
    "    \n",
    "    replace_string ('../mizuRoute/settings/lake_victoria_temp.control',\\\n",
    "                    '../mizuRoute/settings/lake_victoria_'+case_name+'.control',\\\n",
    "                    ['case_temp','scale_factor_temp'],\\\n",
    "                    ['case_'+case_name+'_'+scale_value,scale_value])\n",
    "    \n",
    "    replace_string ('../mizuRoute/settings/lake_victoria_'+case_name+'.control',\\\n",
    "                    '../mizuRoute/settings/lake_victoria_'+case_name+'_restart.control',\\\n",
    "                    ['!<fname_state_in>'],\\\n",
    "                    ['<fname_state_in> '])\n",
    "    \n",
    "    m +=1\n",
    "    \n",
    "    # add to general string\n",
    "    job_string = job_string + '# case'+ case_name +'\\n'\n",
    "    job_string = job_string + './route_runoff.exe ./settings/lake_victoria_'+case_name+'.control \\n' +\\\n",
    "                              'mv case_'+case_name+'_'+scale_value+'.r.2014-01-01-00000.nc case_'+case_name+'_'+scale_value+'.r.1979-01-01-00000.nc \\n'+\\\n",
    "                              './route_runoff.exe ./settings/lake_victoria_'+case_name+'_restart.control \\n'\n",
    "    job_string = job_string + '\\n'\n",
    "    \n",
    "    \n",
    "\n",
    "shutil.copy('../mizuRoute/lake_victoria_temp.submit', '../mizuRoute/lake_victoria.submit')\n",
    "with open('../mizuRoute/lake_victoria.submit', \"a\") as file:\n",
    "    file.write(job_string)\n",
    "    "
   ]
  },
  {
   "cell_type": "code",
   "execution_count": null,
   "id": "4716b8cb",
   "metadata": {},
   "outputs": [],
   "source": []
  }
 ],
 "metadata": {
  "kernelspec": {
   "display_name": "myenv38",
   "language": "python",
   "name": "myenv38"
  },
  "language_info": {
   "codemirror_mode": {
    "name": "ipython",
    "version": 3
   },
   "file_extension": ".py",
   "mimetype": "text/x-python",
   "name": "python",
   "nbconvert_exporter": "python",
   "pygments_lexer": "ipython3",
   "version": "3.8.10"
  }
 },
 "nbformat": 4,
 "nbformat_minor": 5
}
