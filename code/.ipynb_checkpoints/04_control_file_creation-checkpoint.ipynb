{
 "cells": [
  {
   "cell_type": "code",
   "execution_count": 3,
   "id": "89ea5131",
   "metadata": {},
   "outputs": [],
   "source": [
    "# section 1 load all the necessary modules and packages\n",
    "import glob\n",
    "import time\n",
    "import netCDF4 as nc4\n",
    "import numpy as np\n",
    "import pandas as pd\n",
    "import xarray as xr\n",
    "# not neccessary for the function but for visualziation\n",
    "import matplotlib.pyplot as plt\n",
    "import warnings\n",
    "import sys\n",
    "import os\n",
    "import platform\n",
    "import shutil\n"
   ]
  },
  {
   "cell_type": "code",
   "execution_count": 4,
   "id": "d0d2952c",
   "metadata": {},
   "outputs": [],
   "source": [
    "###########################\n",
    "# replacing string function\n",
    "###########################\n",
    "def replace_string (file_in, file_out, string_old, string_replaced):\n",
    "    with open(file_in, \"r+\") as text_file:\n",
    "        texts = text_file.read()\n",
    "        for i in np.arange(len(string_old)):\n",
    "            texts = texts.replace(string_old[i], string_replaced[i])\n",
    "    with open(file_out, \"w\") as text_file:\n",
    "        text_file.write(texts)\n"
   ]
  },
  {
   "cell_type": "code",
   "execution_count": 6,
   "id": "c9789234",
   "metadata": {},
   "outputs": [
    {
     "ename": "TypeError",
     "evalue": "objects must be an iterable containing only Dataset(s), DataArray(s), and dictionaries.",
     "output_type": "error",
     "traceback": [
      "\u001b[0;31m---------------------------------------------------------------------------\u001b[0m",
      "\u001b[0;31mTypeError\u001b[0m                                 Traceback (most recent call last)",
      "\u001b[0;32m/var/folders/yh/b1qy7zb96k980mcb2ps9n6d9t1c6zr/T/ipykernel_36899/1415918285.py\u001b[0m in \u001b[0;36m<module>\u001b[0;34m\u001b[0m\n\u001b[1;32m      5\u001b[0m \u001b[0;34m\u001b[0m\u001b[0m\n\u001b[1;32m      6\u001b[0m \u001b[0;31m# merge file\u001b[0m\u001b[0;34m\u001b[0m\u001b[0;34m\u001b[0m\u001b[0;34m\u001b[0m\u001b[0m\n\u001b[0;32m----> 7\u001b[0;31m \u001b[0mmerged_dataset\u001b[0m \u001b[0;34m=\u001b[0m \u001b[0mxr\u001b[0m\u001b[0;34m.\u001b[0m\u001b[0mmerge\u001b[0m\u001b[0;34m(\u001b[0m\u001b[0mfile_names\u001b[0m\u001b[0;34m)\u001b[0m\u001b[0;34m\u001b[0m\u001b[0;34m\u001b[0m\u001b[0m\n\u001b[0m\u001b[1;32m      8\u001b[0m \u001b[0;34m\u001b[0m\u001b[0m\n\u001b[1;32m      9\u001b[0m \u001b[0mprint\u001b[0m\u001b[0;34m(\u001b[0m\u001b[0mmerged_dataset\u001b[0m\u001b[0;34m)\u001b[0m\u001b[0;34m\u001b[0m\u001b[0;34m\u001b[0m\u001b[0m\n",
      "\u001b[0;32m~/opt/anaconda3/envs/myenv38/lib/python3.8/site-packages/xarray/core/merge.py\u001b[0m in \u001b[0;36mmerge\u001b[0;34m(objects, compat, join, fill_value, combine_attrs)\u001b[0m\n\u001b[1;32m    890\u001b[0m     \u001b[0;32mfor\u001b[0m \u001b[0mobj\u001b[0m \u001b[0;32min\u001b[0m \u001b[0mobjects\u001b[0m\u001b[0;34m:\u001b[0m\u001b[0;34m\u001b[0m\u001b[0;34m\u001b[0m\u001b[0m\n\u001b[1;32m    891\u001b[0m         \u001b[0;32mif\u001b[0m \u001b[0;32mnot\u001b[0m \u001b[0misinstance\u001b[0m\u001b[0;34m(\u001b[0m\u001b[0mobj\u001b[0m\u001b[0;34m,\u001b[0m \u001b[0;34m(\u001b[0m\u001b[0mDataArray\u001b[0m\u001b[0;34m,\u001b[0m \u001b[0mDataset\u001b[0m\u001b[0;34m,\u001b[0m \u001b[0mdict\u001b[0m\u001b[0;34m)\u001b[0m\u001b[0;34m)\u001b[0m\u001b[0;34m:\u001b[0m\u001b[0;34m\u001b[0m\u001b[0;34m\u001b[0m\u001b[0m\n\u001b[0;32m--> 892\u001b[0;31m             raise TypeError(\n\u001b[0m\u001b[1;32m    893\u001b[0m                 \u001b[0;34m\"objects must be an iterable containing only \"\u001b[0m\u001b[0;34m\u001b[0m\u001b[0;34m\u001b[0m\u001b[0m\n\u001b[1;32m    894\u001b[0m                 \u001b[0;34m\"Dataset(s), DataArray(s), and dictionaries.\"\u001b[0m\u001b[0;34m\u001b[0m\u001b[0;34m\u001b[0m\u001b[0m\n",
      "\u001b[0;31mTypeError\u001b[0m: objects must be an iterable containing only Dataset(s), DataArray(s), and dictionaries."
     ]
    }
   ],
   "source": [
    "###########################\n",
    "# get the evaporation for lake victoria \n",
    "###########################\n",
    "file_names = sorted(glob.glob('../mizuRoute/input/mizuRoute_mswep_v1_*_subset.nc'))\n",
    "\n",
    "datasets = [xr.open_dataset(file_name) for file_name in file_names]\n",
    "\n",
    "merged_dataset = xr.concat(datasets, dim='time')\n",
    "\n",
    "print(merged_dataset)\n",
    "\n",
    "\n",
    "ll\n",
    "\n",
    "# number of years\n",
    "time_variable = merged_dataset['time']\n",
    "years = time_variable.dt.year\n",
    "years = np.array(years)\n",
    "n_years = np.unique(years)\n",
    "print(n_years)\n",
    "\n",
    "# find the location index of Lake Victoria\n",
    "idx = np.array(np.where(ds['ID']==7000016))\n",
    "idx = idx[0]\n",
    "    \n",
    "# slice\n",
    "evaporation = np.array(merger_dataset['evaporation'][:,idx])\n",
    "average_evap = sum(evaporation)/n_years\n",
    "\n",
    "# get the ratio for scale\n",
    "other_evap = np.array([1550, 1350, 1130, 1520, 1450, 1500, 1370, 1590, 1470, 1475, 1590, 1595, 1400])\n",
    "\n",
    "# creat the scale factors\n",
    "scales = other_evap/average_evap\n"
   ]
  },
  {
   "cell_type": "code",
   "execution_count": null,
   "id": "2b0faa7a",
   "metadata": {},
   "outputs": [],
   "source": [
    "# Case in which data is located\n",
    "shutil.copy('../mizuRoute/lake_victoria_temp.submit',\n",
    "            '../mizuRoute/lake_victoria.submit')\n",
    "\n",
    "for scale in scales:\n",
    "    \n",
    "    #\n",
    "    replace_string('../mizuRoute/setting/lake_victoria_temp.control',\n",
    "                   '../mizuRoute/setting/lake_victoria'+f\"{float_number:.4f}\"+'.control',\n",
    "                   ['case_temp', 'scale_factor_temp'],\n",
    "                   ['case'+f\"{float_number:.4f}\", f\"{float_number:.4f}\"])\n",
    "    \n",
    "    #\n",
    "    with open('../mizuRoute/lake_victoria.submit', \"w\") as file:\n",
    "        line_to_write = 'srun route_runoff.cesm_coupling.exe ../mizuRoute/setting/lake_victoria'+f\"{float_number:.4f}\"+'.control'+' \\n'\n",
    "        file.write(line_to_write)\n",
    "\n"
   ]
  },
  {
   "cell_type": "code",
   "execution_count": null,
   "id": "96acbbde",
   "metadata": {},
   "outputs": [],
   "source": []
  },
  {
   "cell_type": "code",
   "execution_count": null,
   "id": "6665a27e",
   "metadata": {},
   "outputs": [],
   "source": []
  }
 ],
 "metadata": {
  "kernelspec": {
   "display_name": "myenv38",
   "language": "python",
   "name": "myenv38"
  },
  "language_info": {
   "codemirror_mode": {
    "name": "ipython",
    "version": 3
   },
   "file_extension": ".py",
   "mimetype": "text/x-python",
   "name": "python",
   "nbconvert_exporter": "python",
   "pygments_lexer": "ipython3",
   "version": "3.8.10"
  }
 },
 "nbformat": 4,
 "nbformat_minor": 5
}
