{
 "cells": [
  {
   "cell_type": "code",
   "execution_count": 1,
   "id": "a6c0406a",
   "metadata": {},
   "outputs": [],
   "source": [
    "# section 1 load all the necessary modules and packages\n",
    "import glob\n",
    "import time\n",
    "import netCDF4 as nc4\n",
    "import numpy as np\n",
    "import pandas as pd\n",
    "import xarray as xr\n",
    "# not neccessary for the function but for visualziation\n",
    "import matplotlib.pyplot as plt\n",
    "import warnings\n",
    "import sys\n",
    "import os\n",
    "import platform\n",
    "import shutil\n"
   ]
  },
  {
   "cell_type": "code",
   "execution_count": 2,
   "id": "76a4d39b",
   "metadata": {},
   "outputs": [],
   "source": [
    "###########################\n",
    "# replacing string function\n",
    "###########################\n",
    "def replace_string (file_in, file_out, string_old, string_replaced):\n",
    "    with open(file_in, \"r+\") as text_file:\n",
    "        texts = text_file.read()\n",
    "        for i in np.arange(len(string_old)):\n",
    "            texts = texts.replace(string_old[i], string_replaced[i])\n",
    "    with open(file_out, \"w\") as text_file:\n",
    "        text_file.write(texts)\n"
   ]
  },
  {
   "cell_type": "code",
   "execution_count": 11,
   "id": "fda18a6f",
   "metadata": {},
   "outputs": [
    {
     "name": "stdout",
     "output_type": "stream",
     "text": [
      "[1980 1981 1982 1983 1984 1985 1986 1987 1988 1989 1990 1991 1992 1993\n",
      " 1994]\n",
      "<xarray.Dataset>\n",
      "Dimensions:  (time: 5479)\n",
      "Coordinates:\n",
      "  * time     (time) datetime64[ns] 1980-01-01 1980-01-02 ... 1994-12-31\n",
      "    lon      float64 33.12\n",
      "    lat      float64 -0.875\n",
      "Data variables:\n",
      "    prec     (time) float32 1.506 2.251 0.733 3.978 ... 5.777 0.291 0.178 0.014\n",
      "    evapw    (time) float32 5.968 6.128 5.553 5.586 ... 5.074 4.061 4.645 5.862\n",
      "    runoff   (time) float32 0.1114 0.2769 0.1323 0.1891 ... 0.7727 0.7411 1.128\n",
      "Attributes:\n",
      "    CDI:                        Climate Data Interface version 2.0.5 (https:/...\n",
      "    Conventions:                CF-1.6\n",
      "    history:                    Fri Jul 28 22:19:30 2023: cdo sellonlatbox,28...\n",
      "    NCO:                        netCDF Operators version 4.7.9 (Homepage = ht...\n",
      "    history_of_appended_files:  Mon Jun  8 23:31:43 2020: Appended file runof...\n",
      "    CDO:                        Climate Data Operators version 2.0.5 (https:/...\n",
      "2118.1620852867763\n"
     ]
    },
    {
     "data": {
      "image/png": "[encoded data removed]",
      "text/plain": [
       "<Figure size 432x288 with 1 Axes>"
      ]
     },
     "metadata": {
      "needs_background": "light"
     },
     "output_type": "display_data"
    }
   ],
   "source": [
    "###########################\n",
    "# get the evaporation for lake victoria \n",
    "###########################\n",
    "file_names = sorted(glob.glob('../mizuRoute/input/mizuRoute_mswep_v1_*_subset.nc'))\n",
    "\n",
    "datasets = [xr.open_dataset(file_name) for file_name in file_names]\n",
    "\n",
    "merged_dataset = xr.concat(datasets, dim='time')\n",
    "\n",
    "# number of years\n",
    "time_variable = merged_dataset['time']\n",
    "years = time_variable.dt.year\n",
    "years = np.array(years)\n",
    "n_years = np.unique(years)\n",
    "print(n_years)\n",
    "\n",
    "\n",
    "merged_dataset_slice = merged_dataset.sel(lat=-1.00, lon=33.00, method='nearest')\n",
    "\n",
    "print(merged_dataset_slice)\n",
    "merged_dataset_slice['evapw'].plot()\n",
    "\n",
    "\n",
    "average_evap = sum(np.array(merged_dataset_slice['evapw'][:]))/len(n_years)\n",
    "\n",
    "print(average_evap)\n",
    "\n",
    "# get the ratio for scale\n",
    "other_evap = np.array([average_evap, 1550, 1350, 1130, 1520, 1450, 1500, 1370, 1590, 1470, 1475, 1590, 1595, 1400])\n",
    "\n",
    "# creat the scale factors\n",
    "scales = other_evap/average_evap\n",
    "\n",
    "\n",
    "m = 0\n",
    "for scale in scales:\n",
    "    \n",
    "    replace_string ('../mizuRoute/settings/lake_victoria_temp.control',\\\n",
    "                    '../mizuRoute/settings/lake_victoria_'+str(m)+'.control',\\\n",
    "                    ['case_temp','scale_factor_temp'],\\\n",
    "                    ['case_'+str(m)+'_'+str(\"{:.3f}\".format(scale)),str(\"{:.3f}\".format(scale))])\n",
    "    \n",
    "    m +=1\n"
   ]
  },
  {
   "cell_type": "code",
   "execution_count": null,
   "id": "666ddffa",
   "metadata": {},
   "outputs": [],
   "source": [
    "# Case in which data is located\n",
    "shutil.copy('../mizuRoute/lake_victoria_temp.submit',\n",
    "            '../mizuRoute/lake_victoria.submit')\n",
    "\n",
    "for scale in scales:\n",
    "    \n",
    "    #\n",
    "    replace_string('../mizuRoute/setting/lake_victoria_temp.control',\n",
    "                   '../mizuRoute/setting/lake_victoria'+f\"{float_number:.4f}\"+'.control',\n",
    "                   ['case_temp', 'scale_factor_temp'],\n",
    "                   ['case'+f\"{float_number:.4f}\", f\"{float_number:.4f}\"])\n",
    "    \n",
    "    #\n",
    "    with open('../mizuRoute/lake_victoria.submit', \"w\") as file:\n",
    "        line_to_write = 'srun route_runoff.cesm_coupling.exe ../mizuRoute/setting/lake_victoria'+f\"{float_number:.4f}\"+'.control'+' \\n'\n",
    "        file.write(line_to_write)\n",
    "\n"
   ]
  },
  {
   "cell_type": "code",
   "execution_count": null,
   "id": "10a285e8",
   "metadata": {},
   "outputs": [],
   "source": []
  },
  {
   "cell_type": "code",
   "execution_count": null,
   "id": "17e50103",
   "metadata": {},
   "outputs": [],
   "source": []
  }
 ],
 "metadata": {
  "kernelspec": {
   "display_name": "myenv38",
   "language": "python",
   "name": "myenv38"
  },
  "language_info": {
   "codemirror_mode": {
    "name": "ipython",
    "version": 3
   },
   "file_extension": ".py",
   "mimetype": "text/x-python",
   "name": "python",
   "nbconvert_exporter": "python",
   "pygments_lexer": "ipython3",
   "version": "3.8.10"
  }
 },
 "nbformat": 4,
 "nbformat_minor": 5
}
